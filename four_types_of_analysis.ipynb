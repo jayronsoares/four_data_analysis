{
 "cells": [
  {
   "cell_type": "markdown",
   "id": "0ff17d37",
   "metadata": {},
   "source": [
    "# 1. Descriptive Statistics"
   ]
  },
  {
   "cell_type": "code",
   "execution_count": 50,
   "id": "05908cd7",
   "metadata": {},
   "outputs": [
    {
     "name": "stdout",
     "output_type": "stream",
     "text": [
      "Descriptive Analysis:\n",
      "              Date    Month    Product Sales Expenses Profit\n",
      "count           86       86         86    86       86     86\n",
      "unique          83       12          3    24       23     23\n",
      "top     2022-01-01  January  Product A  2000     1300   1000\n",
      "freq             2       34         31     8        7     12\n"
     ]
    }
   ],
   "source": [
    "import os\n",
    "import pandas as pd\n",
    "os.chdir(r'C:\\Users\\ageu\\Documents\\DW_Use_Cases\\data')\n",
    "\n",
    "# Load data\n",
    "cols=['Date', 'Month', 'Product', 'Sales', 'Expenses', 'Profit']\n",
    "\n",
    "data = pd.read_csv('sales.csv', sep='\\,', engine='python', header=None, names=cols).apply(lambda x: x.str.replace(\"\\\"\",''))\n",
    "\n",
    "data = data.iloc[1:]\n",
    "\n",
    "# Descriptive analysis: Get summary statistics\n",
    "def descriptive_analysis(data):\n",
    "    summary_stats = data.describe()\n",
    "    return summary_stats\n",
    "\n",
    "# Example: Get summary statistics of sales data\n",
    "summary_statistics = descriptive_analysis(data)\n",
    "print('Descriptive Analysis:')\n",
    "print(f'{summary_statistics}')"
   ]
  },
  {
   "cell_type": "markdown",
   "id": "c827b5f9",
   "metadata": {},
   "source": [
    "# 2. Diagnostic Analysis"
   ]
  },
  {
   "cell_type": "code",
   "execution_count": 51,
   "id": "ede170c0",
   "metadata": {},
   "outputs": [
    {
     "name": "stdout",
     "output_type": "stream",
     "text": [
      "\n",
      "Diagnostic Analysis:\n",
      "Products with higher than average profit:\n",
      "Product\n",
      "Product B    1142.857143\n",
      "Name: Profit, dtype: float64\n"
     ]
    }
   ],
   "source": [
    "# Diagnostic Analysis: Identify factors contributing to profit peaks\n",
    "def diagnostic_analysis(data):\n",
    "    # Convert Profit column to numeric, ignoring errors\n",
    "    data['Profit'] = pd.to_numeric(data['Profit'], errors='coerce')\n",
    "    # Drop rows with missing or non-numeric profit values\n",
    "    data = data.dropna(subset=['Profit'])\n",
    "    # Group data by product and calculate average profit\n",
    "    avg_profit = data.groupby('Product')['Profit'].mean()\n",
    "    # Identify products with higher profit than average\n",
    "    high_profit_products = avg_profit[avg_profit > avg_profit.mean()]\n",
    "    return high_profit_products\n",
    "\n",
    "# Example: Identify products with higher than average profit\n",
    "high_profit_products = diagnostic_analysis(data)\n",
    "print(\"\\nDiagnostic Analysis:\")\n",
    "print(\"Products with higher than average profit:\")\n",
    "print(high_profit_products)"
   ]
  },
  {
   "cell_type": "markdown",
   "id": "f84c2d46",
   "metadata": {},
   "source": [
    "# 3. Predictive Analysis"
   ]
  },
  {
   "cell_type": "code",
   "execution_count": 54,
   "id": "5df0f821",
   "metadata": {},
   "outputs": [
    {
     "name": "stdout",
     "output_type": "stream",
     "text": [
      "\n",
      "Predictive Analysis:\n",
      "Forecasted sales for next three months:\n",
      "[2191.83659883 2192.23665626 2192.63671369]\n"
     ]
    }
   ],
   "source": [
    "from sklearn.linear_model import LinearRegression\n",
    "from datetime import datetime\n",
    "\n",
    "# Convert Date to ordinal representation\n",
    "data['Date'] = pd.to_datetime(data['Date'])\n",
    "data['Ordinal_Date'] = data['Date'].apply(lambda x: x.toordinal())\n",
    "\n",
    "# Predictive Analysis: Forecast future sales using linear regression\n",
    "def predictive_analysis(data):\n",
    "    # Extract features and target variable\n",
    "    X = data[['Ordinal_Date']]\n",
    "    y = data['Sales']\n",
    "    # Fit linear regression model\n",
    "    model = LinearRegression()\n",
    "    model.fit(X, y)\n",
    "    # Convert future dates to ordinal representation\n",
    "    future_dates = pd.date_range(start='2025-01-01', periods=3)  # Example future dates\n",
    "    future_ordinals = [date.toordinal() for date in future_dates]\n",
    "    future_ordinals = pd.DataFrame({'Ordinal_Date': future_ordinals})\n",
    "    # Predict future sales\n",
    "    future_sales = model.predict(future_ordinals)\n",
    "    return future_sales\n",
    "\n",
    "# Example: Forecast future sales for the next three months\n",
    "future_sales = predictive_analysis(data)\n",
    "print(\"\\nPredictive Analysis:\")\n",
    "print(\"Forecasted sales for next three months:\")\n",
    "print(future_sales)\n"
   ]
  },
  {
   "cell_type": "markdown",
   "id": "82dca8d5",
   "metadata": {},
   "source": [
    "# 4. Prescriptive Analysis"
   ]
  },
  {
   "cell_type": "code",
   "execution_count": 56,
   "id": "523ab4af",
   "metadata": {},
   "outputs": [
    {
     "name": "stdout",
     "output_type": "stream",
     "text": [
      "\n",
      "Prescriptive Analysis:\n",
      "Recommendation for marketing strategy:\n",
      "['Product B' 'Product A' 'Product C']\n"
     ]
    }
   ],
   "source": [
    "# Prescriptive Analysis: Recommend optimal marketing strategy\n",
    "def prescriptive_analysis(data):\n",
    "    # Convert Profit and Sales columns to numeric, ignoring errors\n",
    "    data['Profit'] = pd.to_numeric(data['Profit'], errors='coerce')\n",
    "    data['Sales'] = pd.to_numeric(data['Sales'], errors='coerce')\n",
    "    # Calculate profit margin for each product\n",
    "    data['Profit_Margin'] = (data['Profit'] / data['Sales']) * 100\n",
    "    # Drop rows with missing or non-numeric profit or sales values\n",
    "    data = data.dropna(subset=['Profit', 'Sales'])\n",
    "    # Identify products with high profit margins\n",
    "    high_margin_products = data[data['Profit_Margin'] > data['Profit_Margin'].quantile(0.75)]\n",
    "    # Recommend focusing marketing efforts on high-margin products\n",
    "    return high_margin_products['Product'].unique()\n",
    "\n",
    "# Example: Recommend optimal marketing strategy based on profit margins\n",
    "optimal_products = prescriptive_analysis(data)\n",
    "print(\"\\nPrescriptive Analysis:\")\n",
    "print(\"Recommendation for marketing strategy:\")\n",
    "print(optimal_products)\n"
   ]
  }
 ],
 "metadata": {
  "kernelspec": {
   "display_name": "Python 3 (ipykernel)",
   "language": "python",
   "name": "python3"
  },
  "language_info": {
   "codemirror_mode": {
    "name": "ipython",
    "version": 3
   },
   "file_extension": ".py",
   "mimetype": "text/x-python",
   "name": "python",
   "nbconvert_exporter": "python",
   "pygments_lexer": "ipython3",
   "version": "3.10.11"
  }
 },
 "nbformat": 4,
 "nbformat_minor": 5
}
